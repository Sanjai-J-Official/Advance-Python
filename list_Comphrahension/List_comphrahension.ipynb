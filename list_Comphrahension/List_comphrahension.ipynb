{
 "cells": [
  {
   "cell_type": "markdown",
   "id": "1a000a9d",
   "metadata": {},
   "source": [
    "WaP to fetch the 4th character if its a consonents from string collection\n"
   ]
  },
  {
   "cell_type": "code",
   "execution_count": null,
   "id": "fc78cbf8",
   "metadata": {},
   "outputs": [],
   "source": []
  },
  {
   "cell_type": "markdown",
   "id": "290a59cc",
   "metadata": {},
   "source": [
    "#wap to fetch the palindrome number from list collection\n"
   ]
  },
  {
   "cell_type": "code",
   "execution_count": 19,
   "id": "f1c52410",
   "metadata": {},
   "outputs": [
    {
     "name": "stdout",
     "output_type": "stream",
     "text": [
      "[121, 2552]\n"
     ]
    }
   ],
   "source": [
    "print([i for i in [12,123,121,223,2552] if str(i)==str(i)[::-1]])"
   ]
  },
  {
   "cell_type": "markdown",
   "id": "e5c021d0",
   "metadata": {},
   "source": [
    "#write a program to fetch the previous character of the vowel char if it is a vowol for string collection"
   ]
  },
  {
   "cell_type": "code",
   "execution_count": null,
   "id": "809359b2",
   "metadata": {},
   "outputs": [],
   "source": [
    " \n",
    "print([chr(ord(i)-1) for i in 'sanjai' if i in 'AEIOUaeiou'])\n"
   ]
  },
  {
   "cell_type": "markdown",
   "id": "03038111",
   "metadata": {},
   "source": [
    "Reverse THE collection"
   ]
  },
  {
   "cell_type": "code",
   "execution_count": 28,
   "id": "985a5308",
   "metadata": {},
   "outputs": [
    {
     "name": "stdout",
     "output_type": "stream",
     "text": [
      "['n', 'o', 'h', 't', 'y', 'P']\n",
      "['y', 't', 'h', 'o']\n"
     ]
    }
   ],
   "source": [
    "inp='Python'\n",
    "print([inp[i] for i in range(-1,-len(inp)-1,-1)])\n",
    "print([inp[-i] for i in range(len(inp)-1,1,-1)])"
   ]
  },
  {
   "cell_type": "code",
   "execution_count": 32,
   "id": "8d51a8ed",
   "metadata": {},
   "outputs": [
    {
     "name": "stdout",
     "output_type": "stream",
     "text": [
      "[1000, 1, 1002, 3, 1004, 5, 1006, 7, 1008, 9, 1010]\n"
     ]
    }
   ],
   "source": [
    "out=[]\n",
    "for i in range(11):\n",
    "    if i%2==0:\n",
    "        out.append(i+1000)\n",
    "    else:\n",
    "        out.append(i)\n",
    "print(out)"
   ]
  },
  {
   "cell_type": "markdown",
   "id": "f5f2a1e9",
   "metadata": {},
   "source": [
    "Syntax of Simple List Comphrahecsion\n",
    "\n",
    "[ TSB if condition esle FSB for i in collection]"
   ]
  },
  {
   "cell_type": "code",
   "execution_count": 33,
   "id": "25606980",
   "metadata": {},
   "outputs": [
    {
     "name": "stdout",
     "output_type": "stream",
     "text": [
      "[1000, 1, 1002, 3, 1004, 5, 1006, 7, 1008, 9, 1010]\n"
     ]
    }
   ],
   "source": [
    "print([i+1000 if i%2==0 else i for i in range(11)])"
   ]
  },
  {
   "cell_type": "code",
   "execution_count": 4,
   "id": "3d3bc465",
   "metadata": {},
   "outputs": [
    {
     "name": "stdout",
     "output_type": "stream",
     "text": [
      "[900, 512000, 8100, 4096000, 22500]\n"
     ]
    }
   ],
   "source": [
    "inp=[10,20,30,40,50]\n",
    "print([(inp[i]*3)**2  if i%2==0 else (inp[i]*4)**3 for i in range(len(inp)) ])"
   ]
  },
  {
   "cell_type": "markdown",
   "id": "faaad873",
   "metadata": {},
   "source": [
    "        wap to print sqpure of even 3 of odd"
   ]
  },
  {
   "cell_type": "code",
   "execution_count": 6,
   "id": "aac5c99e",
   "metadata": {},
   "outputs": [
    {
     "name": "stdout",
     "output_type": "stream",
     "text": [
      "[27, 36, 729, 100, 3375, 900, 4913, 35937]\n"
     ]
    }
   ],
   "source": [
    "inp=[3,6,9,10,15,30,17,33]\n",
    "print([i**2 if i%2==0 else i**3 for i in inp])"
   ]
  },
  {
   "cell_type": "markdown",
   "id": "c39cb665",
   "metadata": {},
   "source": [
    "wap convert into next vowels and vowels into consonent"
   ]
  },
  {
   "cell_type": "code",
   "execution_count": 10,
   "id": "a18f6201",
   "metadata": {},
   "outputs": [
    {
     "name": "stdout",
     "output_type": "stream",
     "text": [
      "['T', 'b', 'o', 'k', 'b', 'j']\n"
     ]
    }
   ],
   "source": [
    "txt='Sanjai'\n",
    "print([chr(ord(i)+1) for i  in txt])"
   ]
  },
  {
   "cell_type": "markdown",
   "id": "d5faa641",
   "metadata": {},
   "source": [
    "wap convert odd into even and even into  odd"
   ]
  },
  {
   "cell_type": "code",
   "execution_count": 9,
   "id": "6b200a70",
   "metadata": {},
   "outputs": [
    {
     "name": "stdout",
     "output_type": "stream",
     "text": [
      "[11, 30, 20, 24]\n"
     ]
    }
   ],
   "source": [
    "inp=[10,29,19,23]\n",
    "print([i+1   for i in inp])"
   ]
  },
  {
   "cell_type": "markdown",
   "id": "48942d9c",
   "metadata": {},
   "source": [
    "print(TSP IF CONDITON ELSE CONDITION  FOR I IN RANGE() IF CONDITION)"
   ]
  },
  {
   "cell_type": "code",
   "execution_count": 14,
   "id": "1dac630d",
   "metadata": {},
   "outputs": [
    {
     "name": "stdout",
     "output_type": "stream",
     "text": [
      "[10000, 39, 's']\n"
     ]
    }
   ],
   "source": [
    "#Wap to check weather the values is number or not from list collection if its a num check weather  the num is less then 100  and print rev of the num along with number \n",
    "# else print the square of the number\n",
    "\n",
    "inp=[100,93,'s']\n",
    "print([(int(str(i)[::-1]) if i<100 else i**2 )  if type(i)==int  else i for i in inp] ) "
   ]
  },
  {
   "cell_type": "markdown",
   "id": "e8a457c8",
   "metadata": {},
   "source": [
    "Wap to fetch THE number 1 to 500  which are the multiple of first three odd number  except number 1"
   ]
  },
  {
   "cell_type": "code",
   "execution_count": 19,
   "id": "2058c2d5",
   "metadata": {},
   "outputs": [
    {
     "name": "stdout",
     "output_type": "stream",
     "text": [
      "[105, 210, 315, 420]\n"
     ]
    }
   ],
   "source": [
    "print([i for i in range(1, 500)  if i%3==0  if i % 5 == 0  if i % 7 == 0])"
   ]
  },
  {
   "cell_type": "code",
   "execution_count": 28,
   "id": "1e0f995d",
   "metadata": {},
   "outputs": [
    {
     "name": "stdout",
     "output_type": "stream",
     "text": [
      "[(1, 'not div by 3'), (2, 'not div by 3'), (3, 'div by 3 , not div by 5'), (4, 'not div by 3'), (5, 'not div by 3'), (6, 'div by 3 , not div by 5'), (7, 'not div by 3'), (8, 'not div by 3'), (9, 'div by 3 , not div by 5'), (10, 'not div by 3'), (11, 'not div by 3'), (12, 'div by 3 , not div by 5'), (13, 'not div by 3'), (14, 'not div by 3'), (15, 'div by 3,5 ,not div by 7'), (16, 'not div by 3'), (17, 'not div by 3'), (18, 'div by 3 , not div by 5'), (19, 'not div by 3'), (20, 'not div by 3'), 21, (22, 'not div by 3'), (23, 'not div by 3'), (24, 'div by 3 , not div by 5'), (25, 'not div by 3'), (26, 'not div by 3'), (27, 'div by 3 , not div by 5'), (28, 'not div by 3'), (29, 'not div by 3'), (30, 'div by 3,5 ,not div by 7'), (31, 'not div by 3'), (32, 'not div by 3'), (33, 'div by 3 , not div by 5'), (34, 'not div by 3'), (35, 'not div by 3'), (36, 'div by 3 , not div by 5'), (37, 'not div by 3'), (38, 'not div by 3'), (39, 'div by 3 , not div by 5'), (40, 'not div by 3'), (41, 'not div by 3'), 42, (43, 'not div by 3'), (44, 'not div by 3'), (45, 'div by 3,5 ,not div by 7'), (46, 'not div by 3'), (47, 'not div by 3'), (48, 'div by 3 , not div by 5'), (49, 'not div by 3'), (50, 'not div by 3'), (51, 'div by 3 , not div by 5'), (52, 'not div by 3'), (53, 'not div by 3'), (54, 'div by 3 , not div by 5'), (55, 'not div by 3'), (56, 'not div by 3'), (57, 'div by 3 , not div by 5'), (58, 'not div by 3'), (59, 'not div by 3'), (60, 'div by 3,5 ,not div by 7'), (61, 'not div by 3'), (62, 'not div by 3'), 63, (64, 'not div by 3'), (65, 'not div by 3'), (66, 'div by 3 , not div by 5'), (67, 'not div by 3'), (68, 'not div by 3'), (69, 'div by 3 , not div by 5'), (70, 'not div by 3'), (71, 'not div by 3'), (72, 'div by 3 , not div by 5'), (73, 'not div by 3'), (74, 'not div by 3'), (75, 'div by 3,5 ,not div by 7'), (76, 'not div by 3'), (77, 'not div by 3'), (78, 'div by 3 , not div by 5'), (79, 'not div by 3'), (80, 'not div by 3'), (81, 'div by 3 , not div by 5'), (82, 'not div by 3'), (83, 'not div by 3'), 84, (85, 'not div by 3'), (86, 'not div by 3'), (87, 'div by 3 , not div by 5'), (88, 'not div by 3'), (89, 'not div by 3'), (90, 'div by 3,5 ,not div by 7'), (91, 'not div by 3'), (92, 'not div by 3'), (93, 'div by 3 , not div by 5'), (94, 'not div by 3'), (95, 'not div by 3'), (96, 'div by 3 , not div by 5'), (97, 'not div by 3'), (98, 'not div by 3'), (99, 'div by 3 , not div by 5'), (100, 'not div by 3'), (101, 'not div by 3'), (102, 'div by 3 , not div by 5'), (103, 'not div by 3'), (104, 'not div by 3'), 105, (106, 'not div by 3'), (107, 'not div by 3'), (108, 'div by 3 , not div by 5'), (109, 'not div by 3'), (110, 'not div by 3'), (111, 'div by 3 , not div by 5'), (112, 'not div by 3'), (113, 'not div by 3'), (114, 'div by 3 , not div by 5'), (115, 'not div by 3'), (116, 'not div by 3'), (117, 'div by 3 , not div by 5'), (118, 'not div by 3'), (119, 'not div by 3'), (120, 'div by 3,5 ,not div by 7'), (121, 'not div by 3'), (122, 'not div by 3'), (123, 'div by 3 , not div by 5'), (124, 'not div by 3'), (125, 'not div by 3'), 126, (127, 'not div by 3'), (128, 'not div by 3'), (129, 'div by 3 , not div by 5'), (130, 'not div by 3'), (131, 'not div by 3'), (132, 'div by 3 , not div by 5'), (133, 'not div by 3'), (134, 'not div by 3'), (135, 'div by 3,5 ,not div by 7'), (136, 'not div by 3'), (137, 'not div by 3'), (138, 'div by 3 , not div by 5'), (139, 'not div by 3'), (140, 'not div by 3'), (141, 'div by 3 , not div by 5'), (142, 'not div by 3'), (143, 'not div by 3'), (144, 'div by 3 , not div by 5'), (145, 'not div by 3'), (146, 'not div by 3'), 147, (148, 'not div by 3'), (149, 'not div by 3'), (150, 'div by 3,5 ,not div by 7'), (151, 'not div by 3'), (152, 'not div by 3'), (153, 'div by 3 , not div by 5'), (154, 'not div by 3'), (155, 'not div by 3'), (156, 'div by 3 , not div by 5'), (157, 'not div by 3'), (158, 'not div by 3'), (159, 'div by 3 , not div by 5'), (160, 'not div by 3'), (161, 'not div by 3'), (162, 'div by 3 , not div by 5'), (163, 'not div by 3'), (164, 'not div by 3'), (165, 'div by 3,5 ,not div by 7'), (166, 'not div by 3'), (167, 'not div by 3'), 168, (169, 'not div by 3'), (170, 'not div by 3'), (171, 'div by 3 , not div by 5'), (172, 'not div by 3'), (173, 'not div by 3'), (174, 'div by 3 , not div by 5'), (175, 'not div by 3'), (176, 'not div by 3'), (177, 'div by 3 , not div by 5'), (178, 'not div by 3'), (179, 'not div by 3'), (180, 'div by 3,5 ,not div by 7'), (181, 'not div by 3'), (182, 'not div by 3'), (183, 'div by 3 , not div by 5'), (184, 'not div by 3'), (185, 'not div by 3'), (186, 'div by 3 , not div by 5'), (187, 'not div by 3'), (188, 'not div by 3'), 189, (190, 'not div by 3'), (191, 'not div by 3'), (192, 'div by 3 , not div by 5'), (193, 'not div by 3'), (194, 'not div by 3'), (195, 'div by 3,5 ,not div by 7'), (196, 'not div by 3'), (197, 'not div by 3'), (198, 'div by 3 , not div by 5'), (199, 'not div by 3'), (200, 'not div by 3'), (201, 'div by 3 , not div by 5'), (202, 'not div by 3'), (203, 'not div by 3'), (204, 'div by 3 , not div by 5'), (205, 'not div by 3'), (206, 'not div by 3'), (207, 'div by 3 , not div by 5'), (208, 'not div by 3'), (209, 'not div by 3'), 210, (211, 'not div by 3'), (212, 'not div by 3'), (213, 'div by 3 , not div by 5'), (214, 'not div by 3'), (215, 'not div by 3'), (216, 'div by 3 , not div by 5'), (217, 'not div by 3'), (218, 'not div by 3'), (219, 'div by 3 , not div by 5'), (220, 'not div by 3'), (221, 'not div by 3'), (222, 'div by 3 , not div by 5'), (223, 'not div by 3'), (224, 'not div by 3'), (225, 'div by 3,5 ,not div by 7'), (226, 'not div by 3'), (227, 'not div by 3'), (228, 'div by 3 , not div by 5'), (229, 'not div by 3'), (230, 'not div by 3'), 231, (232, 'not div by 3'), (233, 'not div by 3'), (234, 'div by 3 , not div by 5'), (235, 'not div by 3'), (236, 'not div by 3'), (237, 'div by 3 , not div by 5'), (238, 'not div by 3'), (239, 'not div by 3'), (240, 'div by 3,5 ,not div by 7'), (241, 'not div by 3'), (242, 'not div by 3'), (243, 'div by 3 , not div by 5'), (244, 'not div by 3'), (245, 'not div by 3'), (246, 'div by 3 , not div by 5'), (247, 'not div by 3'), (248, 'not div by 3'), (249, 'div by 3 , not div by 5'), (250, 'not div by 3'), (251, 'not div by 3'), 252, (253, 'not div by 3'), (254, 'not div by 3'), (255, 'div by 3,5 ,not div by 7'), (256, 'not div by 3'), (257, 'not div by 3'), (258, 'div by 3 , not div by 5'), (259, 'not div by 3'), (260, 'not div by 3'), (261, 'div by 3 , not div by 5'), (262, 'not div by 3'), (263, 'not div by 3'), (264, 'div by 3 , not div by 5'), (265, 'not div by 3'), (266, 'not div by 3'), (267, 'div by 3 , not div by 5'), (268, 'not div by 3'), (269, 'not div by 3'), (270, 'div by 3,5 ,not div by 7'), (271, 'not div by 3'), (272, 'not div by 3'), 273, (274, 'not div by 3'), (275, 'not div by 3'), (276, 'div by 3 , not div by 5'), (277, 'not div by 3'), (278, 'not div by 3'), (279, 'div by 3 , not div by 5'), (280, 'not div by 3'), (281, 'not div by 3'), (282, 'div by 3 , not div by 5'), (283, 'not div by 3'), (284, 'not div by 3'), (285, 'div by 3,5 ,not div by 7'), (286, 'not div by 3'), (287, 'not div by 3'), (288, 'div by 3 , not div by 5'), (289, 'not div by 3'), (290, 'not div by 3'), (291, 'div by 3 , not div by 5'), (292, 'not div by 3'), (293, 'not div by 3'), 294, (295, 'not div by 3'), (296, 'not div by 3'), (297, 'div by 3 , not div by 5'), (298, 'not div by 3'), (299, 'not div by 3'), (300, 'div by 3,5 ,not div by 7'), (301, 'not div by 3'), (302, 'not div by 3'), (303, 'div by 3 , not div by 5'), (304, 'not div by 3'), (305, 'not div by 3'), (306, 'div by 3 , not div by 5'), (307, 'not div by 3'), (308, 'not div by 3'), (309, 'div by 3 , not div by 5'), (310, 'not div by 3'), (311, 'not div by 3'), (312, 'div by 3 , not div by 5'), (313, 'not div by 3'), (314, 'not div by 3'), 315, (316, 'not div by 3'), (317, 'not div by 3'), (318, 'div by 3 , not div by 5'), (319, 'not div by 3'), (320, 'not div by 3'), (321, 'div by 3 , not div by 5'), (322, 'not div by 3'), (323, 'not div by 3'), (324, 'div by 3 , not div by 5'), (325, 'not div by 3'), (326, 'not div by 3'), (327, 'div by 3 , not div by 5'), (328, 'not div by 3'), (329, 'not div by 3'), (330, 'div by 3,5 ,not div by 7'), (331, 'not div by 3'), (332, 'not div by 3'), (333, 'div by 3 , not div by 5'), (334, 'not div by 3'), (335, 'not div by 3'), 336, (337, 'not div by 3'), (338, 'not div by 3'), (339, 'div by 3 , not div by 5'), (340, 'not div by 3'), (341, 'not div by 3'), (342, 'div by 3 , not div by 5'), (343, 'not div by 3'), (344, 'not div by 3'), (345, 'div by 3,5 ,not div by 7'), (346, 'not div by 3'), (347, 'not div by 3'), (348, 'div by 3 , not div by 5'), (349, 'not div by 3'), (350, 'not div by 3'), (351, 'div by 3 , not div by 5'), (352, 'not div by 3'), (353, 'not div by 3'), (354, 'div by 3 , not div by 5'), (355, 'not div by 3'), (356, 'not div by 3'), 357, (358, 'not div by 3'), (359, 'not div by 3'), (360, 'div by 3,5 ,not div by 7'), (361, 'not div by 3'), (362, 'not div by 3'), (363, 'div by 3 , not div by 5'), (364, 'not div by 3'), (365, 'not div by 3'), (366, 'div by 3 , not div by 5'), (367, 'not div by 3'), (368, 'not div by 3'), (369, 'div by 3 , not div by 5'), (370, 'not div by 3'), (371, 'not div by 3'), (372, 'div by 3 , not div by 5'), (373, 'not div by 3'), (374, 'not div by 3'), (375, 'div by 3,5 ,not div by 7'), (376, 'not div by 3'), (377, 'not div by 3'), 378, (379, 'not div by 3'), (380, 'not div by 3'), (381, 'div by 3 , not div by 5'), (382, 'not div by 3'), (383, 'not div by 3'), (384, 'div by 3 , not div by 5'), (385, 'not div by 3'), (386, 'not div by 3'), (387, 'div by 3 , not div by 5'), (388, 'not div by 3'), (389, 'not div by 3'), (390, 'div by 3,5 ,not div by 7'), (391, 'not div by 3'), (392, 'not div by 3'), (393, 'div by 3 , not div by 5'), (394, 'not div by 3'), (395, 'not div by 3'), (396, 'div by 3 , not div by 5'), (397, 'not div by 3'), (398, 'not div by 3'), 399, (400, 'not div by 3'), (401, 'not div by 3'), (402, 'div by 3 , not div by 5'), (403, 'not div by 3'), (404, 'not div by 3'), (405, 'div by 3,5 ,not div by 7'), (406, 'not div by 3'), (407, 'not div by 3'), (408, 'div by 3 , not div by 5'), (409, 'not div by 3'), (410, 'not div by 3'), (411, 'div by 3 , not div by 5'), (412, 'not div by 3'), (413, 'not div by 3'), (414, 'div by 3 , not div by 5'), (415, 'not div by 3'), (416, 'not div by 3'), (417, 'div by 3 , not div by 5'), (418, 'not div by 3'), (419, 'not div by 3'), 420, (421, 'not div by 3'), (422, 'not div by 3'), (423, 'div by 3 , not div by 5'), (424, 'not div by 3'), (425, 'not div by 3'), (426, 'div by 3 , not div by 5'), (427, 'not div by 3'), (428, 'not div by 3'), (429, 'div by 3 , not div by 5'), (430, 'not div by 3'), (431, 'not div by 3'), (432, 'div by 3 , not div by 5'), (433, 'not div by 3'), (434, 'not div by 3'), (435, 'div by 3,5 ,not div by 7'), (436, 'not div by 3'), (437, 'not div by 3'), (438, 'div by 3 , not div by 5'), (439, 'not div by 3'), (440, 'not div by 3'), 441, (442, 'not div by 3'), (443, 'not div by 3'), (444, 'div by 3 , not div by 5'), (445, 'not div by 3'), (446, 'not div by 3'), (447, 'div by 3 , not div by 5'), (448, 'not div by 3'), (449, 'not div by 3'), (450, 'div by 3,5 ,not div by 7'), (451, 'not div by 3'), (452, 'not div by 3'), (453, 'div by 3 , not div by 5'), (454, 'not div by 3'), (455, 'not div by 3'), (456, 'div by 3 , not div by 5'), (457, 'not div by 3'), (458, 'not div by 3'), (459, 'div by 3 , not div by 5'), (460, 'not div by 3'), (461, 'not div by 3'), 462, (463, 'not div by 3'), (464, 'not div by 3'), (465, 'div by 3,5 ,not div by 7'), (466, 'not div by 3'), (467, 'not div by 3'), (468, 'div by 3 , not div by 5'), (469, 'not div by 3'), (470, 'not div by 3'), (471, 'div by 3 , not div by 5'), (472, 'not div by 3'), (473, 'not div by 3'), (474, 'div by 3 , not div by 5'), (475, 'not div by 3'), (476, 'not div by 3'), (477, 'div by 3 , not div by 5'), (478, 'not div by 3'), (479, 'not div by 3'), (480, 'div by 3,5 ,not div by 7'), (481, 'not div by 3'), (482, 'not div by 3'), 483, (484, 'not div by 3'), (485, 'not div by 3'), (486, 'div by 3 , not div by 5'), (487, 'not div by 3'), (488, 'not div by 3'), (489, 'div by 3 , not div by 5'), (490, 'not div by 3'), (491, 'not div by 3'), (492, 'div by 3 , not div by 5'), (493, 'not div by 3'), (494, 'not div by 3'), (495, 'div by 3,5 ,not div by 7'), (496, 'not div by 3'), (497, 'not div by 3'), (498, 'div by 3 , not div by 5'), (499, 'not div by 3'), (500, 'not div by 3')]\n"
     ]
    }
   ],
   "source": [
    "print([ (  i if i%7==0 else (i,\"div by 3,5 ,not div by 7\") if i%5==0 else (i,\"div by 3 , not div by 5\"))  if i%3==0 else (i,\"not div by 3\")  for i in range(1,501)])"
   ]
  },
  {
   "cell_type": "markdown",
   "id": "7c473a67",
   "metadata": {},
   "source": [
    "check weather is mutliple of 9 if its multiple of 9 print you hot else you sweet else print you are idiot"
   ]
  }
 ],
 "metadata": {
  "kernelspec": {
   "display_name": "Python 3",
   "language": "python",
   "name": "python3"
  },
  "language_info": {
   "codemirror_mode": {
    "name": "ipython",
    "version": 3
   },
   "file_extension": ".py",
   "mimetype": "text/x-python",
   "name": "python",
   "nbconvert_exporter": "python",
   "pygments_lexer": "ipython3",
   "version": "3.10.0"
  }
 },
 "nbformat": 4,
 "nbformat_minor": 5
}
